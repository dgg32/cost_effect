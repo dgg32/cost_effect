{
 "cells": [
  {
   "cell_type": "code",
   "execution_count": 1,
   "metadata": {},
   "outputs": [],
   "source": [
    "import pandas as pd\n",
    "# Import BeautifulSoup\n",
    "from bs4 import BeautifulSoup as bs\n",
    "import os"
   ]
  },
  {
   "cell_type": "code",
   "execution_count": 62,
   "metadata": {},
   "outputs": [],
   "source": [
    "with open(\"covid_strategy.pgmx\", \"r\") as file:\n",
    "    # Read each line in the file, readlines() returns a list of lines\n",
    "    content = file.readlines()\n",
    "# Combine the lines in the list into a string\n",
    "content = \"\".join(content)\n",
    "bs_content = bs(content, \"xml\")"
   ]
  },
  {
   "cell_type": "code",
   "execution_count": 4,
   "metadata": {},
   "outputs": [
    {
     "name": "stdout",
     "output_type": "stream",
     "text": [
      "Cost $\n",
      "Effectiveness QALY\n"
     ]
    }
   ],
   "source": [
    "for node in bs_content.find(\"DecisionCriteria\").find_all(\"Criterion\"):\n",
    "    print (node.get(\"name\"), node.get(\"unit\"))"
   ]
  },
  {
   "cell_type": "code",
   "execution_count": 25,
   "metadata": {},
   "outputs": [],
   "source": [
    "for node in bs_content.find(\"Variables\").find_all(\"Variable\", role=lambda x: x != 'utility'):\n",
    "    if node.has_attr(\"role\"):\n",
    "        #print (node.has_attr(\"hello\"), node.has_attr(\"type\"), node.find(\"States\"))\n",
    "        states = \"; \".join([n.get(\"name\") for n in node.find(\"States\").find_all(\"State\")])"
   ]
  },
  {
   "cell_type": "code",
   "execution_count": 63,
   "metadata": {},
   "outputs": [
    {
     "name": "stdout",
     "output_type": "stream",
     "text": [
      "yes\n"
     ]
    }
   ],
   "source": [
    "for l in bs_content.find(\"Links\").find_all(\"Link\"):\n",
    "    \n",
    "    source, target = [x.get(\"name\") for x in l.find_all(\"Variable\", recursive=False)]\n",
    "\n",
    "    #print (l.find_all(\"Variable\"), source, target)\n",
    "\n",
    "    for p in l.find_all(\"Potential\"):\n",
    "        role = p.get(\"role\")\n",
    "        type_ = p.get(\"type\")\n",
    "        ## variables should be the same as the outer loop\n",
    "        values = p.find(\"Values\").text\n",
    "        #print (role, type_, values)\n",
    "\n",
    "    #print (l)\n",
    "    \n",
    "    for r in l.find_all(\"RevelationCondition\"):\n",
    "        for s in r.find_all(\"State\"):\n",
    "            print (s.get(\"name\"))"
   ]
  },
  {
   "cell_type": "code",
   "execution_count": null,
   "metadata": {},
   "outputs": [],
   "source": []
  }
 ],
 "metadata": {
  "kernelspec": {
   "display_name": "base",
   "language": "python",
   "name": "python3"
  },
  "language_info": {
   "codemirror_mode": {
    "name": "ipython",
    "version": 3
   },
   "file_extension": ".py",
   "mimetype": "text/x-python",
   "name": "python",
   "nbconvert_exporter": "python",
   "pygments_lexer": "ipython3",
   "version": "3.9.7"
  },
  "orig_nbformat": 4
 },
 "nbformat": 4,
 "nbformat_minor": 2
}
