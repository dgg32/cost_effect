{
 "cells": [
  {
   "cell_type": "code",
   "execution_count": 1,
   "metadata": {},
   "outputs": [],
   "source": [
    "import pandas as pd\n",
    "# Import BeautifulSoup\n",
    "from bs4 import BeautifulSoup as bs\n",
    "import os"
   ]
  },
  {
   "cell_type": "code",
   "execution_count": 2,
   "metadata": {},
   "outputs": [],
   "source": [
    "with open(\"covid_strategy.pgmx\", \"r\") as file:\n",
    "    # Read each line in the file, readlines() returns a list of lines\n",
    "    content = file.readlines()\n",
    "# Combine the lines in the list into a string\n",
    "content = \"\".join(content)\n",
    "bs_content = bs(content, \"xml\")"
   ]
  },
  {
   "cell_type": "code",
   "execution_count": 4,
   "metadata": {},
   "outputs": [
    {
     "name": "stdout",
     "output_type": "stream",
     "text": [
      "Cost $\n",
      "Effectiveness QALY\n"
     ]
    }
   ],
   "source": [
    "for node in bs_content.find(\"DecisionCriteria\").find_all(\"Criterion\"):\n",
    "    print (node.get(\"name\"), node.get(\"unit\"))"
   ]
  },
  {
   "cell_type": "code",
   "execution_count": 25,
   "metadata": {},
   "outputs": [],
   "source": [
    "for node in bs_content.find(\"Variables\").find_all(\"Variable\", role=lambda x: x != 'utility'):\n",
    "    if node.has_attr(\"role\"):\n",
    "        #print (node.has_attr(\"hello\"), node.has_attr(\"type\"), node.find(\"States\"))\n",
    "        states = \"; \".join([n.get(\"name\") for n in node.find(\"States\").find_all(\"State\")])"
   ]
  },
  {
   "cell_type": "code",
   "execution_count": 63,
   "metadata": {},
   "outputs": [
    {
     "name": "stdout",
     "output_type": "stream",
     "text": [
      "yes\n"
     ]
    }
   ],
   "source": [
    "for l in bs_content.find(\"Links\").find_all(\"Link\"):\n",
    "    \n",
    "    source, target = [x.get(\"name\") for x in l.find_all(\"Variable\", recursive=False)]\n",
    "\n",
    "    #print (l.find_all(\"Variable\"), source, target)\n",
    "\n",
    "    for p in l.find_all(\"Potential\"):\n",
    "        role = p.get(\"role\")\n",
    "        type_ = p.get(\"type\")\n",
    "        ## variables should be the same as the outer loop\n",
    "        values = p.find(\"Values\").text\n",
    "        #print (role, type_, values)\n",
    "\n",
    "    #print (l)\n",
    "    \n",
    "    for r in l.find_all(\"RevelationCondition\"):\n",
    "        for s in r.find_all(\"State\"):\n",
    "            print (s.get(\"name\"))"
   ]
  },
  {
   "cell_type": "code",
   "execution_count": 3,
   "metadata": {},
   "outputs": [
    {
     "name": "stdout",
     "output_type": "stream",
     "text": [
      "0.01\n",
      "0.01\n",
      "0.01\n"
     ]
    }
   ],
   "source": [
    "for node in bs_content.find(\"Variables\").find_all(\"Variable\", role=lambda x: x == 'utility'):\n",
    "\n",
    "   precision = float(node.find(\"Precision\").text)\n",
    "\n",
    "   print (precision)"
   ]
  },
  {
   "attachments": {},
   "cell_type": "markdown",
   "metadata": {},
   "source": [
    "      <Potential type=\"Table\" role=\"conditionalProbability\">\n",
    "        <UtilityVariable name=\"Medicine cost\" />\n",
    "        <Variables>\n",
    "          <Variable name=\"Paxlovid_or_Remdesivir\" />\n",
    "        </Variables>\n",
    "        <Values>0.0 390.0 1530.0</Values>\n",
    "      </Potential>"
   ]
  },
  {
   "cell_type": "code",
   "execution_count": 7,
   "metadata": {},
   "outputs": [
    {
     "name": "stdout",
     "output_type": "stream",
     "text": [
      "Effectiveness\n",
      "Medicine cost\n",
      "Test cost\n"
     ]
    }
   ],
   "source": [
    "potentials = []\n",
    "for potential in bs_content.find(\"Potentials\").find_all(\"Potential\"):\n",
    "    variables = \"; \".join([n.get(\"name\") for n in potential.find(\"Variables\").find_all(\"Variable\")])\n",
    "    values = potential.find(\"Values\").text\n",
    "    #potentials.append({\"type\": potential.get(\"type\"), \"role\": potential.get(\"role\"), \"variables\": variables, \"values\": values})\n",
    "    #print (potential.get(\"type\"), potential.get(\"role\"))\n",
    "\n",
    "    for u in potential.find_all(\"UtilityVariable\"):\n",
    "        print (u.get(\"name\"))\n"
   ]
  },
  {
   "cell_type": "code",
   "execution_count": 12,
   "metadata": {},
   "outputs": [
    {
     "name": "stdout",
     "output_type": "stream",
     "text": [
      "Cost -1.0\n",
      "Effectiveness 1000.0\n"
     ]
    }
   ],
   "source": [
    "for node in bs_content.find(\"InferenceOptions\").find_all(\"Unicriterion\"):\n",
    "    for s in node.find_all(\"Scale\"):\n",
    "        print (s.get(\"Criterion\"), s.get(\"Value\"))"
   ]
  },
  {
   "cell_type": "code",
   "execution_count": null,
   "metadata": {},
   "outputs": [],
   "source": []
  }
 ],
 "metadata": {
  "kernelspec": {
   "display_name": "base",
   "language": "python",
   "name": "python3"
  },
  "language_info": {
   "codemirror_mode": {
    "name": "ipython",
    "version": 3
   },
   "file_extension": ".py",
   "mimetype": "text/x-python",
   "name": "python",
   "nbconvert_exporter": "python",
   "pygments_lexer": "ipython3",
   "version": "3.9.12"
  },
  "orig_nbformat": 4
 },
 "nbformat": 4,
 "nbformat_minor": 2
}
